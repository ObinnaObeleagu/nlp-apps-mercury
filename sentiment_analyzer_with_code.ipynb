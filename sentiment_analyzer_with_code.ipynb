{
 "cells": [
  {
   "cell_type": "raw",
   "metadata": {},
   "source": [
    "---\n",
    "title: 😠😐😊 Sentiment Analyzer with code 🛠️\n",
    "description: Enter text to get its sentiment\n",
    "show-code: True\n",
    "params:\n",
    "    user_input:\n",
    "        input: text\n",
    "        rows: 5\n",
    "        label: Please enter text\n",
    "        value: This is an amazing app\n",
    "---"
   ]
  },
  {
   "cell_type": "markdown",
   "metadata": {},
   "source": [
    "# 😠😐😊 Sentiment Analyzer"
   ]
  },
  {
   "cell_type": "code",
   "execution_count": 1,
   "metadata": {},
   "outputs": [],
   "source": [
    "import spacy\n",
    "from IPython.display import Markdown as md\n",
    "from spacytextblob.spacytextblob import SpacyTextBlob"
   ]
  },
  {
   "cell_type": "code",
   "execution_count": 2,
   "metadata": {},
   "outputs": [],
   "source": [
    "# User input text\n",
    "user_input = 'This is an amazing app'"
   ]
  },
  {
   "cell_type": "code",
   "execution_count": 3,
   "metadata": {},
   "outputs": [],
   "source": [
    "nlp = spacy.load('en_core_web_sm')\n",
    "_=nlp.add_pipe('spacytextblob')"
   ]
  },
  {
   "cell_type": "code",
   "execution_count": 4,
   "metadata": {},
   "outputs": [],
   "source": [
    "# Process user input\n",
    "doc = nlp(user_input)"
   ]
  },
  {
   "cell_type": "code",
   "execution_count": 5,
   "metadata": {},
   "outputs": [],
   "source": [
    "emojis = [\"😠\", \"😐\", \"😊\"]\n",
    "headers = [\"Negative\", \"Neutral\", \"Positive\"]\n",
    "alerts = [\"danger\", \"warning\", \"success\"]\n",
    "index = 1\n",
    "if doc._.polarity >= 0.5:\n",
    "    index = 2\n",
    "elif doc._.polarity <= -0.5:\n",
    "    index = 0"
   ]
  },
  {
   "cell_type": "code",
   "execution_count": 6,
   "metadata": {},
   "outputs": [
    {
     "data": {
      "text/markdown": [
       "\n",
       "<div class=\"alert alert-block alert-success\"> \n",
       "    <h2>😊 Positive sentiment</h2> \n",
       "    <h3>This is an amazing app</h3>\n",
       "    <h4>Polarity: 0.6000000000000001</h4>\n",
       "</div>\n"
      ],
      "text/plain": [
       "<IPython.core.display.Markdown object>"
      ]
     },
     "execution_count": 6,
     "metadata": {},
     "output_type": "execute_result"
    }
   ],
   "source": [
    "md(f'''\n",
    "<div class=\"alert alert-block alert-{alerts[index]}\"> \n",
    "    <h2>{emojis[index]} {headers[index]} sentiment</h2> \n",
    "    <h3>{user_input}</h3>\n",
    "    <h4>Polarity: {doc._.polarity}</h4>\n",
    "</div>\n",
    "''')"
   ]
  },
  {
   "cell_type": "code",
   "execution_count": null,
   "metadata": {},
   "outputs": [],
   "source": []
  }
 ],
 "metadata": {
  "kernelspec": {
   "display_name": "nlpenv",
   "language": "python",
   "name": "nlpenv"
  },
  "language_info": {
   "codemirror_mode": {
    "name": "ipython",
    "version": 3
   },
   "file_extension": ".py",
   "mimetype": "text/x-python",
   "name": "python",
   "nbconvert_exporter": "python",
   "pygments_lexer": "ipython3",
   "version": "3.8.10"
  }
 },
 "nbformat": 4,
 "nbformat_minor": 4
}
